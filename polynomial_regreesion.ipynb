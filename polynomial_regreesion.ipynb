{
 "cells": [
  {
   "cell_type": "code",
   "execution_count": 20,
   "id": "1097163c",
   "metadata": {},
   "outputs": [
    {
     "name": "stdout",
     "output_type": "stream",
     "text": [
      "    Rollno  Attendence  marks\n",
      "0        1          70     75\n",
      "1        2          71     76\n",
      "2        3          72     77\n",
      "3        4          73     78\n",
      "4        5          74     79\n",
      "5        6          75     80\n",
      "6        7          76     81\n",
      "7        8          77     82\n",
      "8        9          78     83\n",
      "9       10          79     84\n",
      "10      11          80     85\n",
      "11      12          81     86\n",
      "12      13          82     87\n",
      "13      14          83     88\n",
      "14      15          84     89\n",
      "15      16          85     90\n",
      "16      17          86     91\n",
      "17      18          87     92\n",
      "18      19          88     93\n",
      "19      20          89     94\n"
     ]
    }
   ],
   "source": [
    "#ploynomial regression\n",
    "import pandas as pd\n",
    "from sklearn.linear_model import LinearRegression\n",
    "from sklearn.preprocessing import PolynomialFeatures\n",
    "from sklearn.model_selection import train_test_split\n",
    "from sklearn.metrics import r2_score,mean_squared_error\n",
    "import matplotlib.pyplot as plt\n",
    "df=pd.read_csv('attendence.csv')\n",
    "print(df)"
   ]
  },
  {
   "cell_type": "code",
   "execution_count": 21,
   "id": "4e26bf52",
   "metadata": {},
   "outputs": [
    {
     "name": "stdout",
     "output_type": "stream",
     "text": [
      "(14, 1)\n",
      "(6, 1)\n",
      "(14,)\n",
      "(6,)\n"
     ]
    }
   ],
   "source": [
    "#stopre the data values\n",
    "x=df[['Attendence']]\n",
    "y=df['marks']\n",
    "x_train,x_test,y_train,y_test=train_test_split(x,y,test_size=0.3)\n",
    "print(x_train.shape)\n",
    "print(x_test.shape)\n",
    "print(y_train.shape)\n",
    "print(y_test.shape)"
   ]
  },
  {
   "cell_type": "code",
   "execution_count": 22,
   "id": "5cd00365",
   "metadata": {},
   "outputs": [
    {
     "data": {
      "text/plain": [
       "LinearRegression()"
      ]
     },
     "execution_count": 22,
     "metadata": {},
     "output_type": "execute_result"
    }
   ],
   "source": [
    "#fit the degree\n",
    "poly=PolynomialFeatures(degree=4)\n",
    "poly_x=poly.fit_transform(x_test)\n",
    "model=LinearRegression()\n",
    "model.fit(poly_x,y_test)"
   ]
  },
  {
   "cell_type": "code",
   "execution_count": 23,
   "id": "ffdcb504",
   "metadata": {},
   "outputs": [
    {
     "name": "stdout",
     "output_type": "stream",
     "text": [
      "[80. 90. 88. 92. 76. 86.]\n",
      "m [ 0.00000000e+00  9.99999879e-01  2.25292250e-09 -1.85940504e-11\n",
      "  5.76048838e-14]\n",
      "c 5.000002449249379\n"
     ]
    }
   ],
   "source": [
    "y_pre=model.predict(poly_x)\n",
    "print(y_pre)\n",
    "print(\"m\",model.coef_)\n",
    "print(\"c\",model.intercept_)"
   ]
  },
  {
   "cell_type": "code",
   "execution_count": 24,
   "id": "ebbb0380",
   "metadata": {},
   "outputs": [
    {
     "name": "stdout",
     "output_type": "stream",
     "text": [
      "[93.]\n"
     ]
    }
   ],
   "source": [
    "# ppredict the value\n",
    "print(model.predict(poly.fit_transform([[88]])))"
   ]
  },
  {
   "cell_type": "code",
   "execution_count": 25,
   "id": "c087bd0d",
   "metadata": {},
   "outputs": [
    {
     "name": "stdout",
     "output_type": "stream",
     "text": [
      "r2 1.0\n",
      "squared 1.6287396566858464e-19\n"
     ]
    }
   ],
   "source": [
    "print(\"r2\",r2_score(y_test,y_pre))\n",
    "print(\"squared\",mean_squared_error(y_test,y_pre))"
   ]
  },
  {
   "cell_type": "code",
   "execution_count": 26,
   "id": "b096b474",
   "metadata": {},
   "outputs": [
    {
     "name": "stdout",
     "output_type": "stream",
     "text": [
      "    Actiual  Predicte\n",
      "5        80      80.0\n",
      "15       90      90.0\n",
      "13       88      88.0\n",
      "17       92      92.0\n",
      "1        76      76.0\n",
      "11       86      86.0\n"
     ]
    }
   ],
   "source": [
    "df1=pd.DataFrame({'Actiual':y_test,'Predicte':y_pre})\n",
    "print(df1)"
   ]
  },
  {
   "cell_type": "code",
   "execution_count": 27,
   "id": "8a2cbc34",
   "metadata": {},
   "outputs": [
    {
     "data": {
      "text/plain": [
       "[<matplotlib.lines.Line2D at 0x239554c9dc0>]"
      ]
     },
     "execution_count": 27,
     "metadata": {},
     "output_type": "execute_result"
    },
    {
     "data": {
      "image/png": "[encoded data removed]",
      "text/plain": [
       "<Figure size 640x480 with 1 Axes>"
      ]
     },
     "metadata": {},
     "output_type": "display_data"
    }
   ],
   "source": [
    "plt.plot(y_test,y_pre)\n"
   ]
  },
  {
   "cell_type": "code",
   "execution_count": null,
   "id": "52ff1f2d",
   "metadata": {},
   "outputs": [],
   "source": []
  }
 ],
 "metadata": {
  "kernelspec": {
   "display_name": "Python 3 (ipykernel)",
   "language": "python",
   "name": "python3"
  },
  "language_info": {
   "codemirror_mode": {
    "name": "ipython",
    "version": 3
   },
   "file_extension": ".py",
   "mimetype": "text/x-python",
   "name": "python",
   "nbconvert_exporter": "python",
   "pygments_lexer": "ipython3",
   "version": "3.9.13"
  }
 },
 "nbformat": 4,
 "nbformat_minor": 5
}
