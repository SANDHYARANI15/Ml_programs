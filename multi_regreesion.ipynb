{
 "cells": [
  {
   "cell_type": "code",
   "execution_count": 98,
   "id": "8a84bb20",
   "metadata": {},
   "outputs": [
    {
     "name": "stdout",
     "output_type": "stream",
     "text": [
      "    Rollno  Attedence  marks  backlogs  cretrification\n",
      "0        1         70     75         1               2\n",
      "1        2         71     76         2               1\n",
      "2        3         72     77         6               2\n",
      "3        4         73     78         3               3\n",
      "4        5         74     79         4               2\n",
      "5        6         75     80         2               1\n",
      "6        7         76     81         5               5\n",
      "7        8         77     82         2               6\n",
      "8        9         78     83         1               2\n",
      "9       10         79     84         3               1\n",
      "10      11         80     85         1               5\n",
      "11      12         81     86         3               2\n",
      "12      13         82     87         4               6\n",
      "13      14         83     88         2               5\n",
      "14      15         84     89         4               4\n",
      "15      16         85     90         5               5\n",
      "16      17         86     91         6               6\n",
      "17      19         87     92         2               2\n",
      "18      20         88     93         2               2\n"
     ]
    }
   ],
   "source": [
    "#multiple regreesion\n",
    "import pandas as pd\n",
    "from sklearn.linear_model import LinearRegression\n",
    "from sklearn.model_selection import train_test_split\n",
    "data=pd.read_csv('attedence.csv')\n",
    "print(data)"
   ]
  },
  {
   "cell_type": "code",
   "execution_count": 99,
   "id": "73e73df8",
   "metadata": {},
   "outputs": [
    {
     "name": "stdout",
     "output_type": "stream",
     "text": [
      "(19, 3)\n",
      "(19, 1)\n"
     ]
    }
   ],
   "source": [
    "#strore the data\n",
    "x=data[['Attedence','backlogs','cretrification']]\n",
    "y=data[['marks']]\n",
    "print(x.shape)\n",
    "print(y.shape)"
   ]
  },
  {
   "cell_type": "code",
   "execution_count": 100,
   "id": "3512a209",
   "metadata": {},
   "outputs": [
    {
     "name": "stdout",
     "output_type": "stream",
     "text": [
      "(13, 3)\n",
      "(6, 3)\n",
      "(13, 1)\n",
      "(6, 1)\n"
     ]
    }
   ],
   "source": [
    "#split the data\n",
    "x_train,x_test,y_train,y_test=train_test_split(x,y,test_size=0.3)\n",
    "print(x_train.shape)\n",
    "print(x_test.shape)\n",
    "print(y_train.shape)\n",
    "print(y_test.shape)"
   ]
  },
  {
   "cell_type": "code",
   "execution_count": 101,
   "id": "fc4e8a02",
   "metadata": {},
   "outputs": [
    {
     "name": "stdout",
     "output_type": "stream",
     "text": [
      "[[88.]\n",
      " [82.]\n",
      " [79.]\n",
      " [89.]\n",
      " [83.]\n",
      " [93.]]\n",
      "m= [[ 1.00000000e+00 -1.90803586e-16 -3.46575084e-16]]\n",
      "c= [5.]\n"
     ]
    }
   ],
   "source": [
    "#fit and predict the values\n",
    "model=LinearRegression()\n",
    "model.fit(x_train,y_train)\n",
    "y_pred=model.predict(x_test)\n",
    "print(y_pred)\n",
    "print(\"m=\",model.coef_)\n",
    "print(\"c=\",model.intercept_)"
   ]
  },
  {
   "cell_type": "code",
   "execution_count": 103,
   "id": "7e7a4a94",
   "metadata": {},
   "outputs": [
    {
     "name": "stdout",
     "output_type": "stream",
     "text": [
      "1.0\n",
      "0.0\n"
     ]
    }
   ],
   "source": [
    "#r2 score error\n",
    "from sklearn.metrics import r2_score,mean_squared_error\n",
    "print(r2_score(y_test,y_pred))\n",
    "print(mean_squared_error(y_test,y_pred))"
   ]
  },
  {
   "cell_type": "code",
   "execution_count": 104,
   "id": "242a479e",
   "metadata": {},
   "outputs": [
    {
     "name": "stdout",
     "output_type": "stream",
     "text": [
      "[[83.]]\n"
     ]
    },
    {
     "name": "stderr",
     "output_type": "stream",
     "text": [
      "C:\\Users\\ML Lab\\anaconda3\\lib\\site-packages\\sklearn\\base.py:450: UserWarning: X does not have valid feature names, but LinearRegression was fitted with feature names\n",
      "  warnings.warn(\n"
     ]
    }
   ],
   "source": [
    "r=model.predict([[78,2,1]])\n",
    "print(r)"
   ]
  },
  {
   "cell_type": "code",
   "execution_count": 38,
   "id": "e941fc39",
   "metadata": {},
   "outputs": [
    {
     "data": {
      "text/plain": [
       "[<matplotlib.lines.Line2D at 0x1e761f040a0>]"
      ]
     },
     "execution_count": 38,
     "metadata": {},
     "output_type": "execute_result"
    },
    {
     "data": {
      "image/png": "[encoded data removed]",
      "text/plain": [
       "<Figure size 640x480 with 1 Axes>"
      ]
     },
     "metadata": {},
     "output_type": "display_data"
    }
   ],
   "source": [
    "import matplotlib.pyplot as plt\n",
    "plt.plot(y_test,y_pred)"
   ]
  },
  {
   "cell_type": "code",
   "execution_count": null,
   "id": "b0b3bb40",
   "metadata": {},
   "outputs": [],
   "source": []
  }
 ],
 "metadata": {
  "kernelspec": {
   "display_name": "Python 3 (ipykernel)",
   "language": "python",
   "name": "python3"
  },
  "language_info": {
   "codemirror_mode": {
    "name": "ipython",
    "version": 3
   },
   "file_extension": ".py",
   "mimetype": "text/x-python",
   "name": "python",
   "nbconvert_exporter": "python",
   "pygments_lexer": "ipython3",
   "version": "3.9.13"
  }
 },
 "nbformat": 4,
 "nbformat_minor": 5
}
